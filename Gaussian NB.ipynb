{
 "cells": [
  {
   "cell_type": "code",
   "execution_count": 1,
   "id": "ece8a97f-d632-4d8f-96d3-a0e74b9aba7c",
   "metadata": {},
   "outputs": [],
   "source": [
    "import numpy as np\n",
    "import pandas as pd\n",
    "from sklearn.datasets import load_iris\n",
    "from sklearn.model_selection import train_test_split\n",
    "from sklearn.naive_bayes import GaussianNB\n",
    "from sklearn.metrics import accuracy_score"
   ]
  },
  {
   "cell_type": "code",
   "execution_count": 2,
   "id": "dea2dcbc-1801-4ecc-a25b-c4f5f030562f",
   "metadata": {},
   "outputs": [],
   "source": [
    "# Loading dataset and getting the labels as y and features as X\n",
    "X, y = load_iris(return_X_y=True)"
   ]
  },
  {
   "cell_type": "code",
   "execution_count": 3,
   "id": "60df3a62-03ea-4a78-bddc-59b7ced5509f",
   "metadata": {},
   "outputs": [],
   "source": [
    "# Split the data into training and testing sets\n",
    "X_train, X_test, y_train, y_test = train_test_split(\n",
    "    X, y,\n",
    "    test_size=0.3,\n",
    "    random_state=0\n",
    ")"
   ]
  },
  {
   "cell_type": "markdown",
   "id": "7d7a7ce1-6e4d-4523-be83-e3b7e02ba6f2",
   "metadata": {},
   "source": [
    "### Gaussian Naive Bayes Classifier from Scratch with Python"
   ]
  },
  {
   "cell_type": "code",
   "execution_count": 4,
   "id": "a9932a17-a453-4115-9298-8a85021fb93d",
   "metadata": {},
   "outputs": [],
   "source": [
    "class GaussianNBClassifier:\n",
    "    \n",
    "    def fit(self, X, y):\n",
    "        self.classes = np.unique(y)\n",
    "        self.num_classes = len(self.classes)\n",
    "        self.num_samples = X.shape[0]\n",
    "        self.num_features = X.shape[1]\n",
    "        \n",
    "        # for p(y) \n",
    "        self.priors = np.zeros(self.num_classes)\n",
    "        \n",
    "        #for p(X|y)\n",
    "        self.means = np.zeros((self.num_classes, self.num_features))\n",
    "        self.variances = np.zeros((self.num_classes, self.num_features))\n",
    "        \n",
    "        for i, c in enumerate(self.classes):\n",
    "            \n",
    "            # caculating prior, mean and variance for each value of y\n",
    "            X_cls = X[y == c]\n",
    "            self.priors[i] = X_cls.shape[0] / X.shape[0]\n",
    "            self.means[i] = X_cls.mean(axis=0)\n",
    "            self.variances = X_cls.var(axis=0)\n",
    "        \n",
    "    \n",
    "    def predict(self, X):\n",
    "        \n",
    "        # Calculating posterior for each value of y. Then sum the log of prior and posterior \n",
    "        # instead of multipy them for fixing the small value issues.\n",
    "        posteriors = np.zeros((X.shape[0], self.num_classes))\n",
    "        \n",
    "        for i, c in enumerate(self.classes):\n",
    "            prior = np.log(self.priors[i])\n",
    "            posterior = np.sum(np.log(self._Gaussian_pdf(X, self.means[i], self.variances[i])), axis=1)\n",
    "            posteriors[:, i] = prior + posterior\n",
    "\n",
    "        return self.classes[np.argmax(posteriors, axis=1)]\n",
    "    \n",
    "    \n",
    "    def _Gaussian_pdf(self, X, mean, variance):\n",
    "        return (1 / np.sqrt(2 * np.pi * variance)) * np.exp(-((X - mean)  ** 2) / (2 * variance))"
   ]
  },
  {
   "cell_type": "code",
   "execution_count": 5,
   "id": "aa5591fe-8490-42bc-85ee-048927f3638f",
   "metadata": {},
   "outputs": [],
   "source": [
    "clf = GaussianNBClassifier()\n",
    "clf.fit(X_train, y_train)\n",
    "y_pred = clf.predict(X_test)"
   ]
  },
  {
   "cell_type": "code",
   "execution_count": 6,
   "id": "4239120b-27ea-45fe-8dfe-4f932866b76c",
   "metadata": {},
   "outputs": [
    {
     "name": "stdout",
     "output_type": "stream",
     "text": [
      "Accuracy =  0.9111111111111111\n"
     ]
    }
   ],
   "source": [
    "accuracy = np.mean(y_pred == y_test)\n",
    "print('Accuracy = ', accuracy)"
   ]
  },
  {
   "cell_type": "markdown",
   "id": "baca9958-ddc2-4bed-bb93-73e05a523b9b",
   "metadata": {},
   "source": [
    "### Gaussian Naive Bayes Classifier with sklearn"
   ]
  },
  {
   "cell_type": "code",
   "execution_count": 7,
   "id": "81e82164-29ab-41a6-9ed2-e24fb40f8d6c",
   "metadata": {},
   "outputs": [],
   "source": [
    "SKL_clf = GaussianNB()\n",
    "SKL_clf.fit(X_train, y_train)\n",
    "y_pred_SKL = SKL_clf.predict(X_test)"
   ]
  },
  {
   "cell_type": "code",
   "execution_count": 8,
   "id": "49d7f16f-9500-4c19-909d-b18f4441dc06",
   "metadata": {},
   "outputs": [
    {
     "name": "stdout",
     "output_type": "stream",
     "text": [
      "accuracy =  1.0\n"
     ]
    }
   ],
   "source": [
    "print('accuracy = ', accuracy_score(y_pred_SKL, y_test)) "
   ]
  },
  {
   "cell_type": "code",
   "execution_count": null,
   "id": "28db50c1-33b4-476c-ad5a-a82049cf568a",
   "metadata": {},
   "outputs": [],
   "source": []
  }
 ],
 "metadata": {
  "kernelspec": {
   "display_name": "Python 3 (ipykernel)",
   "language": "python",
   "name": "python3"
  },
  "language_info": {
   "codemirror_mode": {
    "name": "ipython",
    "version": 3
   },
   "file_extension": ".py",
   "mimetype": "text/x-python",
   "name": "python",
   "nbconvert_exporter": "python",
   "pygments_lexer": "ipython3",
   "version": "3.9.7"
  }
 },
 "nbformat": 4,
 "nbformat_minor": 5
}
